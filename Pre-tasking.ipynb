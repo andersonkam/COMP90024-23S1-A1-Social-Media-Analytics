{
 "cells": [
  {
   "cell_type": "markdown",
   "id": "21857f13-89f9-4559-88df-c44ab474d2fd",
   "metadata": {
    "tags": []
   },
   "source": [
    "# Data"
   ]
  },
  {
   "cell_type": "code",
   "execution_count": 3,
   "id": "266d5fe6-e0f4-4072-8bbd-d185b89db404",
   "metadata": {
    "tags": []
   },
   "outputs": [],
   "source": [
    "import json\n",
    "import ijson\n",
    "import re\n",
    "from collections import defaultdict\n",
    "from itertools import islice\n",
    "\n",
    "import numpy as np\n",
    "import pandas as pd"
   ]
  },
  {
   "cell_type": "code",
   "execution_count": 4,
   "id": "eeab6199-b9e3-4a4d-8c0b-6277ff549350",
   "metadata": {
    "tags": []
   },
   "outputs": [
    {
     "name": "stdout",
     "output_type": "stream",
     "text": [
      "<class 'dict'>\n"
     ]
    }
   ],
   "source": [
    "# Open the JSON file\n",
    "with open(\"sal.json\") as f:\n",
    "    sal_data = json.load(f)\n",
    "\n",
    "print(type(sal_data))"
   ]
  },
  {
   "cell_type": "code",
   "execution_count": 5,
   "id": "4a55140b-9586-4b16-840a-eeaee367a2ab",
   "metadata": {
    "tags": []
   },
   "outputs": [
    {
     "name": "stdout",
     "output_type": "stream",
     "text": [
      "<class 'list'>\n"
     ]
    }
   ],
   "source": [
    "with open(\"smallTwitter.json\", encoding=\"utf-8\") as f:\n",
    "    twi_data = json.load(f)\n",
    "\n",
    "print(type(twi_data))"
   ]
  },
  {
   "cell_type": "code",
   "execution_count": 6,
   "id": "803d2aef-18a4-4375-8fd7-9e4a175e7bd9",
   "metadata": {
    "tags": []
   },
   "outputs": [
    {
     "name": "stdout",
     "output_type": "stream",
     "text": [
      "Number of sal keys: 15340\n",
      "Number of twitters: 119160\n"
     ]
    }
   ],
   "source": [
    "print(\"Number of sal keys:\", len(sal_data.keys()))\n",
    "print(\"Number of twitters:\", len(twi_data))"
   ]
  },
  {
   "cell_type": "code",
   "execution_count": 7,
   "id": "2222afc0-8b01-48ee-ae8c-592b1cfefbf9",
   "metadata": {
    "tags": []
   },
   "outputs": [
    {
     "data": {
      "text/plain": [
       "{'ste': '1', 'gcc': '1gsyd', 'sal': '10002'}"
      ]
     },
     "execution_count": 7,
     "metadata": {},
     "output_type": "execute_result"
    }
   ],
   "source": [
    "sal_data[\"abbotsbury\"]"
   ]
  },
  {
   "cell_type": "code",
   "execution_count": 7,
   "id": "2121f1c6-83f9-4176-84b2-d0a2e54c8451",
   "metadata": {
    "tags": []
   },
   "outputs": [
    {
     "data": {
      "text/plain": [
       "{'ste': '2', 'gcc': '2gmel', 'sal': '22170'}"
      ]
     },
     "execution_count": 7,
     "metadata": {},
     "output_type": "execute_result"
    }
   ],
   "source": [
    "sal_data[\"richmond (vic.)\"]"
   ]
  },
  {
   "cell_type": "code",
   "execution_count": 8,
   "id": "ccda4b67-6389-46c9-9ac4-3f86c44638b9",
   "metadata": {
    "tags": []
   },
   "outputs": [
    {
     "data": {
      "text/plain": [
       "{'ste': '1', 'gcc': '1rnsw', 'sal': '10001'}"
      ]
     },
     "execution_count": 8,
     "metadata": {},
     "output_type": "execute_result"
    }
   ],
   "source": [
    "sal_data[\"aarons pass\"]  # rurual location"
   ]
  },
  {
   "cell_type": "code",
   "execution_count": 9,
   "id": "3da65b7e-b06f-47f7-89c2-a1b4b1174e01",
   "metadata": {
    "tags": []
   },
   "outputs": [
    {
     "data": {
      "text/plain": [
       "15340"
      ]
     },
     "execution_count": 9,
     "metadata": {},
     "output_type": "execute_result"
    }
   ],
   "source": [
    "len(sal_data.keys())"
   ]
  },
  {
   "cell_type": "code",
   "execution_count": 10,
   "id": "f6c43d76-fbc1-40d2-a4ab-d7899468402f",
   "metadata": {
    "tags": []
   },
   "outputs": [
    {
     "name": "stdout",
     "output_type": "stream",
     "text": [
      "['1gsyd', '2gmel', '3gbri', '4gade', '5gper', '6ghob', '7gdar', '8acte', '9oter']\n"
     ]
    }
   ],
   "source": [
    "lst = []\n",
    "for k in sal_data.keys():\n",
    "    # number - r - loc\n",
    "    if sal_data[k][\"gcc\"][1] != \"r\":\n",
    "        lst.append(sal_data[k][\"gcc\"])\n",
    "\n",
    "\n",
    "print(sorted(list(set(lst))))"
   ]
  },
  {
   "cell_type": "code",
   "execution_count": 11,
   "id": "9f3d8209-b887-48a1-b59e-2af50c1d3e2d",
   "metadata": {},
   "outputs": [
    {
     "name": "stdout",
     "output_type": "stream",
     "text": [
      "All _id values are unique\n"
     ]
    }
   ],
   "source": [
    "id_set = set()\n",
    "for tweet in twi_data:\n",
    "    if \"_id\" in tweet:\n",
    "        id_set.add(tweet[\"_id\"])\n",
    "\n",
    "if len(twi_data) == len(id_set):\n",
    "    print(\"All _id values are unique\")\n",
    "else:\n",
    "    print(\"There are duplicate _id values\")"
   ]
  },
  {
   "cell_type": "code",
   "execution_count": 12,
   "id": "e81080cb-d5eb-4f58-94ae-2b7713a8e483",
   "metadata": {
    "collapsed": true,
    "jupyter": {
     "outputs_hidden": true
    },
    "tags": []
   },
   "outputs": [
    {
     "data": {
      "text/plain": [
       "{'_id': '1412193387575316482',\n",
       " '_rev': '2-0fa70896c4b97c5fa391af1b9ea8e0d1',\n",
       " 'data': {'author_id': '836119507173154816',\n",
       "  'conversation_id': '1412193387575316482',\n",
       "  'created_at': '2021-07-05T23:35:15.000Z',\n",
       "  'entities': {'urls': [{'start': 83,\n",
       "     'end': 106,\n",
       "     'url': 'https://t.co/q8etqvtYTz',\n",
       "     'expanded_url': 'https://twitter.com/PiperJackson_xx/status/1412193387575316482/photo/1',\n",
       "     'display_url': 'pic.twitter.com/q8etqvtYTz'}]},\n",
       "  'geo': {'place_id': '3f14ce28dc7c4566'},\n",
       "  'lang': 'en',\n",
       "  'public_metrics': {'retweet_count': 0,\n",
       "   'reply_count': 0,\n",
       "   'like_count': 0,\n",
       "   'quote_count': 0},\n",
       "  'text': '🌼❤ Kindness is the ability and desire to have a positive impact upon others. xx💕xx https://t.co/q8etqvtYTz',\n",
       "  'sentiment': 0.3684210526315789},\n",
       " 'includes': {'places': [{'full_name': 'Australia',\n",
       "    'geo': {'type': 'Feature',\n",
       "     'bbox': [112.921114, -43.740482, 159.109219, -9.142176],\n",
       "     'properties': {}},\n",
       "    'id': '3f14ce28dc7c4566'}]},\n",
       " 'matching_rules': [{'id': 1412189062442586000,\n",
       "   'tag': 'Australia-based users or Australia-located tweets, but no re-tweets'}]}"
      ]
     },
     "execution_count": 12,
     "metadata": {},
     "output_type": "execute_result"
    }
   ],
   "source": [
    "twi_data[0]  # Australia (can be ignored)"
   ]
  },
  {
   "cell_type": "code",
   "execution_count": 14,
   "id": "e46b7bae-5e9c-4607-bd7f-e5aad0d6a1d6",
   "metadata": {
    "collapsed": true,
    "jupyter": {
     "outputs_hidden": true
    },
    "tags": []
   },
   "outputs": [
    {
     "data": {
      "text/plain": [
       "{'_id': '1412192485812555778',\n",
       " '_rev': '2-76667587bc37ce06a551b61a9ec36656',\n",
       " 'data': {'author_id': '156677140',\n",
       "  'conversation_id': '1412178746828681221',\n",
       "  'created_at': '2021-07-05T23:31:40.000Z',\n",
       "  'entities': {'annotations': [{'start': 60,\n",
       "     'end': 63,\n",
       "     'probability': 0.4782,\n",
       "     'type': 'Person',\n",
       "     'normalized_text': 'Albo'}],\n",
       "   'mentions': [{'start': 0,\n",
       "     'end': 8,\n",
       "     'username': 'z_p1ngu',\n",
       "     'id': '441036228'},\n",
       "    {'start': 9,\n",
       "     'end': 19,\n",
       "     'username': 'OtherAudi',\n",
       "     'id': '1341641077674057728'},\n",
       "    {'start': 20, 'end': 27, 'username': 'AlboMP', 'id': '254515782'}]},\n",
       "  'geo': {'place_id': '0073b76548e5984f'},\n",
       "  'lang': 'en',\n",
       "  'public_metrics': {'retweet_count': 0,\n",
       "   'reply_count': 0,\n",
       "   'like_count': 0,\n",
       "   'quote_count': 0},\n",
       "  'text': '@z_p1ngu @OtherAudi @AlboMP Even this is more detailed than Albo',\n",
       "  'sentiment': 0},\n",
       " 'includes': {'places': [{'full_name': 'Sydney, New South Wales',\n",
       "    'geo': {'type': 'Feature',\n",
       "     'bbox': [150.520928608, -34.1183470085, 151.343020992, -33.578140996],\n",
       "     'properties': {}},\n",
       "    'id': '0073b76548e5984f'}]},\n",
       " 'matching_rules': [{'id': 1412189062442586000,\n",
       "   'tag': 'Australia-based users or Australia-located tweets, but no re-tweets'}]}"
      ]
     },
     "execution_count": 14,
     "metadata": {},
     "output_type": "execute_result"
    }
   ],
   "source": [
    "twi_data[100]  # Sydney, NSW"
   ]
  },
  {
   "cell_type": "code",
   "execution_count": 15,
   "id": "7d0a897f-c147-463b-8d2e-e41968d80e06",
   "metadata": {
    "collapsed": true,
    "jupyter": {
     "outputs_hidden": true
    },
    "tags": []
   },
   "outputs": [
    {
     "data": {
      "text/plain": [
       "{'_id': '1412189836245495808',\n",
       " '_rev': '2-327e3959a6d7c9c272aa077af18a354c',\n",
       " 'data': {'author_id': '2780377073',\n",
       "  'conversation_id': '1412189776837550086',\n",
       "  'created_at': '2021-07-05T23:21:08.000Z',\n",
       "  'entities': {},\n",
       "  'geo': {'place_id': '0050d04d64e25ba9'},\n",
       "  'lang': 'en',\n",
       "  'public_metrics': {'retweet_count': 0,\n",
       "   'reply_count': 0,\n",
       "   'like_count': 0,\n",
       "   'quote_count': 0},\n",
       "  'text': 'Pretty big!',\n",
       "  'sentiment': 1},\n",
       " 'includes': {'places': [{'full_name': 'Shepparton - Mooroopna, Victoria',\n",
       "    'geo': {'type': 'Feature',\n",
       "     'bbox': [145.338536704, -36.45701376, 145.461960992, -36.3452964595],\n",
       "     'properties': {}},\n",
       "    'id': '0050d04d64e25ba9'}]},\n",
       " 'matching_rules': [{'id': 1412189062442586000,\n",
       "   'tag': 'Australia-based users or Australia-located tweets, but no re-tweets'}]}"
      ]
     },
     "execution_count": 15,
     "metadata": {},
     "output_type": "execute_result"
    }
   ],
   "source": [
    "twi_data[299]  # Shepparton - Mooroopna, VIC"
   ]
  },
  {
   "cell_type": "code",
   "execution_count": 13,
   "id": "90c3e617-32d2-4216-a6c0-31d3f9515e1f",
   "metadata": {
    "collapsed": true,
    "jupyter": {
     "outputs_hidden": true
    },
    "tags": []
   },
   "outputs": [
    {
     "name": "stdout",
     "output_type": "stream",
     "text": [
      "['Canberra, Australian Capital Territory', 'Queensland, Australia', 'Coffs Harbour, New South Wales', 'Victoria, Australia', 'Anglesea, Victoria', 'Margaret River, Western Australia', 'Sunshine, Melbourne', 'Warrnambool, Victoria', 'Townsville, Queensland', 'Mansfield, Victoria', 'Cairns, Queensland', 'Geelong, Victoria', 'Ayr, Queensland', 'Wollongong, New South Wales', 'Serpentine, Western Australia', 'Wangaratta, Victoria', 'Tasmania, Australia', 'Perth, Western Australia', 'Hobart, Tasmania', 'Queanbeyan, New South Wales', 'New South Wales, Australia', 'South Australia, Australia', 'Central Coast, New South Wales', 'Gisborne, Victoria', 'Mossman Gorge, Mossman', 'Helensburgh, New South Wales', 'Scoresby, Melbourne', 'Torquay - Jan Juc, Victoria', 'Byron Bay, New South Wales', 'Brisbane, Queensland', 'Sunbury, Victoria', 'Toowoomba, Queensland', 'Auburn, South Australia', 'Australia', 'Whitton, New South Wales', 'Windsor, Melbourne', 'Eveleigh, Sydney', 'Sydney, New South Wales', 'Pakenham, Victoria', 'Macquarie Park, Sydney', 'Newcastle, New South Wales', 'Clermont, Queensland', 'Adelaide, South Australia', 'Broome, Western Australia', 'Murwillumbah', 'Rockhampton, Queensland', 'Launceston, Tasmania', 'Western Australia, Australia', 'Nelson Bay - Corlette, New South Wales', 'Sunshine Coast, Queensland', 'Gold Coast, Queensland', 'Cambewarra Village, New South Wales', 'Tamworth, New South Wales', 'Airlie Beach - Cannonvale, Queensland', 'Manilla, New South Wales', 'Picton, New South Wales', 'Kilmore, Victoria', 'Doonan - Tinbeerwah, Queensland', 'Carrickalinga, South Australia', 'Fyshwick, Canberra', 'Toronto, Ontario', 'Crafers - Bridgewater, South Australia', 'Tweed Heads, New South Wales', 'Ghan, Northern Territory', 'Westbrook, Queensland', 'Darwin, Northern Territory', 'Bendigo, Victoria', 'Braddon, Canberra', 'Kempsey, New South Wales', 'Melton, Victoria', 'Melbourne, Victoria', 'Ballarat, Victoria', 'Kirribilli, Sydney', 'Shepparton - Mooroopna, Victoria', 'Gloucester, New South Wales', 'Bathurst, New South Wales', 'Tamborine Mountain, Queensland']\n"
     ]
    }
   ],
   "source": [
    "# Check all unique place full name in twitter data\n",
    "place_full_name_lst = []\n",
    "for tweet in twi_data:\n",
    "    # Get full_name of the place\n",
    "    place_full_name = tweet[\"includes\"][\"places\"][0][\"full_name\"]\n",
    "    place_full_name_lst.append(place_full_name)\n",
    "    # HERE consider cutting the name\n",
    "\n",
    "print(list(set(place_full_name_lst)))"
   ]
  },
  {
   "cell_type": "code",
   "execution_count": 14,
   "id": "930694a6-ec5d-462b-ad5d-6071da5eb962",
   "metadata": {
    "tags": []
   },
   "outputs": [
    {
     "name": "stdout",
     "output_type": "stream",
     "text": [
      "77\n"
     ]
    }
   ],
   "source": [
    "print(len(list(set(place_full_name_lst))))"
   ]
  },
  {
   "cell_type": "code",
   "execution_count": 15,
   "id": "fb611ae7-32e3-4996-8f91-d4db4a215aab",
   "metadata": {
    "tags": []
   },
   "outputs": [
    {
     "name": "stdout",
     "output_type": "stream",
     "text": [
      "715\n"
     ]
    }
   ],
   "source": [
    "print(len(list(place_full_name_lst)))"
   ]
  },
  {
   "cell_type": "markdown",
   "id": "82e0e3b7-6051-48ad-b973-08a3716b315b",
   "metadata": {},
   "source": [
    "# Q1 (count the number of tweets in the various capital cities)"
   ]
  },
  {
   "cell_type": "code",
   "execution_count": 8,
   "id": "41022e3b-db0b-4104-94dd-00e004dc1761",
   "metadata": {
    "tags": []
   },
   "outputs": [],
   "source": [
    "def get_capital_cities(sal_data):\n",
    "    capital_city_lst = []\n",
    "\n",
    "    for k in sal_data.keys():\n",
    "        gcc = sal_data[k][\"gcc\"]\n",
    "        # get rid of rural locations\n",
    "        if gcc[1] != \"r\" and gcc not in capital_city_lst:\n",
    "            capital_city_lst.append(gcc)\n",
    "\n",
    "    return capital_city_lst"
   ]
  },
  {
   "cell_type": "code",
   "execution_count": 9,
   "id": "6380e377-922d-402c-9d1d-10c0e7a8bfe3",
   "metadata": {},
   "outputs": [
    {
     "data": {
      "text/plain": [
       "['1gsyd',\n",
       " '2gmel',\n",
       " '3gbri',\n",
       " '4gade',\n",
       " '5gper',\n",
       " '6ghob',\n",
       " '7gdar',\n",
       " '8acte',\n",
       " '9oter']"
      ]
     },
     "execution_count": 9,
     "metadata": {},
     "output_type": "execute_result"
    }
   ],
   "source": [
    "get_capital_cities(sal_data)"
   ]
  },
  {
   "cell_type": "code",
   "execution_count": 10,
   "id": "f6e59f43-f3a4-4cfd-bf04-1472f82883da",
   "metadata": {},
   "outputs": [],
   "source": [
    "def get_sal_city_match(sal_data):\n",
    "    sal_city_match = {}\n",
    "    capital_cities = get_capital_cities(sal_data)\n",
    "\n",
    "    for region in sal_data.keys():\n",
    "        gcc = sal_data[region][\"gcc\"]\n",
    "\n",
    "        if gcc in capital_cities:\n",
    "            sal_city_match[region] = gcc\n",
    "\n",
    "    return sal_city_match"
   ]
  },
  {
   "cell_type": "code",
   "execution_count": 11,
   "id": "f19ee9c1-97c5-498d-8a45-085c850fd0b3",
   "metadata": {
    "tags": []
   },
   "outputs": [
    {
     "data": {
      "text/plain": [
       "3394"
      ]
     },
     "execution_count": 11,
     "metadata": {},
     "output_type": "execute_result"
    }
   ],
   "source": [
    "len(get_sal_city_match(sal_data))"
   ]
  },
  {
   "cell_type": "code",
   "execution_count": 12,
   "id": "5eff015f-1718-425c-afdb-299d82e85b72",
   "metadata": {},
   "outputs": [],
   "source": [
    "def get_sal_name(full_name):\n",
    "    sal_names = full_name.split(\",\")[0:]  # split by comma and take the first part\n",
    "    sal_names = [name.strip().lower() for name in sal_names]\n",
    "    \n",
    "    if len(sal_names) > 1:\n",
    "        sub_names = []\n",
    "        for name in sal_names[1:]:\n",
    "            sal_names.extend(re.split(r\"\\W+\", name))\n",
    "        sal_names.extend([name for name in sub_names if name])\n",
    "        \n",
    "    return sal_names"
   ]
  },
  {
   "cell_type": "code",
   "execution_count": 13,
   "id": "cd201b34-ed52-4637-9188-d1b775b467bf",
   "metadata": {
    "tags": []
   },
   "outputs": [],
   "source": [
    "def get_city_tweet_counts(sal_data, twitter_data):\n",
    "    capital_city_lst = get_capital_cities(sal_data)\n",
    "    sal_city_match = get_sal_city_match(sal_data)\n",
    "\n",
    "    city_tweet_counts = {city: 0 for city in capital_city_lst}\n",
    "    author_lst = []\n",
    "\n",
    "    for tweet in twitter_data:\n",
    "        if tweet[\"includes\"] and \"places\" in tweet[\"includes\"]:\n",
    "            full_name = tweet[\"includes\"][\"places\"][0][\"full_name\"]\n",
    "            author_id = tweet['data'][\"author_id\"]\n",
    "            \n",
    "            if full_name in sal_city_match.keys():\n",
    "                greater_city = sal_city_match[sub_name]\n",
    "            else:  \n",
    "                sal_name = get_sal_name(full_name)\n",
    "\n",
    "                for sub_name in sal_name:\n",
    "                    if sub_name in sal_city_match.keys():\n",
    "                        if sal_city_match[sub_name] == '5gper':\n",
    "                            author_lst.append(author_id)\n",
    "                        greater_city = sal_city_match[sub_name]\n",
    "                        city_tweet_counts[greater_city] += 1\n",
    "                        break\n",
    "    print(len(author_lst))\n",
    "    city_tweets_df = pd.DataFrame.from_dict(\n",
    "        city_tweet_counts, orient=\"index\", columns=[\"Number of Tweets Made\"]\n",
    "    ).rename_axis(\"Greater Capital City\")\n",
    "\n",
    "    return city_tweets_df"
   ]
  },
  {
   "cell_type": "code",
   "execution_count": 14,
   "id": "1226fb80-55cf-4f2b-9504-1dad8a3a70a2",
   "metadata": {},
   "outputs": [
    {
     "name": "stdout",
     "output_type": "stream",
     "text": [
      "90348\n"
     ]
    },
    {
     "data": {
      "text/html": [
       "<div>\n",
       "<style scoped>\n",
       "    .dataframe tbody tr th:only-of-type {\n",
       "        vertical-align: middle;\n",
       "    }\n",
       "\n",
       "    .dataframe tbody tr th {\n",
       "        vertical-align: top;\n",
       "    }\n",
       "\n",
       "    .dataframe thead th {\n",
       "        text-align: right;\n",
       "    }\n",
       "</style>\n",
       "<table border=\"1\" class=\"dataframe\">\n",
       "  <thead>\n",
       "    <tr style=\"text-align: right;\">\n",
       "      <th></th>\n",
       "      <th>Number of Tweets Made</th>\n",
       "    </tr>\n",
       "    <tr>\n",
       "      <th>Greater Capital City</th>\n",
       "      <th></th>\n",
       "    </tr>\n",
       "  </thead>\n",
       "  <tbody>\n",
       "    <tr>\n",
       "      <th>1gsyd</th>\n",
       "      <td>29126</td>\n",
       "    </tr>\n",
       "    <tr>\n",
       "      <th>2gmel</th>\n",
       "      <td>32846</td>\n",
       "    </tr>\n",
       "    <tr>\n",
       "      <th>3gbri</th>\n",
       "      <td>10066</td>\n",
       "    </tr>\n",
       "    <tr>\n",
       "      <th>4gade</th>\n",
       "      <td>7262</td>\n",
       "    </tr>\n",
       "    <tr>\n",
       "      <th>5gper</th>\n",
       "      <td>7160</td>\n",
       "    </tr>\n",
       "    <tr>\n",
       "      <th>6ghob</th>\n",
       "      <td>727</td>\n",
       "    </tr>\n",
       "    <tr>\n",
       "      <th>7gdar</th>\n",
       "      <td>504</td>\n",
       "    </tr>\n",
       "    <tr>\n",
       "      <th>8acte</th>\n",
       "      <td>2656</td>\n",
       "    </tr>\n",
       "    <tr>\n",
       "      <th>9oter</th>\n",
       "      <td>1</td>\n",
       "    </tr>\n",
       "  </tbody>\n",
       "</table>\n",
       "</div>"
      ],
      "text/plain": [
       "                      Number of Tweets Made\n",
       "Greater Capital City                       \n",
       "1gsyd                                 29126\n",
       "2gmel                                 32846\n",
       "3gbri                                 10066\n",
       "4gade                                  7262\n",
       "5gper                                  7160\n",
       "6ghob                                   727\n",
       "7gdar                                   504\n",
       "8acte                                  2656\n",
       "9oter                                     1"
      ]
     },
     "execution_count": 14,
     "metadata": {},
     "output_type": "execute_result"
    }
   ],
   "source": [
    "get_city_tweet_counts(sal_data, twi_data)"
   ]
  },
  {
   "cell_type": "markdown",
   "id": "a719404b-46a0-4097-856f-fd0ffab692ca",
   "metadata": {},
   "source": [
    "# Q2 (count the number of tweets made by the same individual and return the top 10 tweeters)"
   ]
  },
  {
   "cell_type": "code",
   "execution_count": null,
   "id": "12d5c1e5-9bab-4da1-b621-5fe0b6a3dff6",
   "metadata": {},
   "outputs": [],
   "source": [
    "def get_top_tweeters(twitter_data):\n",
    "    author_tweet_counts = {}\n",
    "    for tweet in twitter_data:\n",
    "        author_id = tweet['data'][\"author_id\"]\n",
    "        if author_id in author_tweet_counts:\n",
    "            author_tweet_counts[author_id] += 1\n",
    "        else:\n",
    "            author_tweet_counts[author_id] = 1\n",
    "\n",
    "    top_ten = sorted(author_tweet_counts.items(), key=lambda x: x[1], reverse=True)[:10]\n",
    "\n",
    "    top_ten_df = pd.DataFrame(\n",
    "        top_ten, columns=[\"Author Id\", \"Number of Tweets Made\"]\n",
    "    ).rename_axis(\"Rank\")\n",
    "    top_ten_df.index += 1\n",
    "\n",
    "    return top_ten_df"
   ]
  },
  {
   "cell_type": "code",
   "execution_count": null,
   "id": "33621087-f8c5-4d65-ab91-0d9b2bd6c79f",
   "metadata": {
    "tags": []
   },
   "outputs": [
    {
     "data": {
      "text/html": [
       "<div>\n",
       "<style scoped>\n",
       "    .dataframe tbody tr th:only-of-type {\n",
       "        vertical-align: middle;\n",
       "    }\n",
       "\n",
       "    .dataframe tbody tr th {\n",
       "        vertical-align: top;\n",
       "    }\n",
       "\n",
       "    .dataframe thead th {\n",
       "        text-align: right;\n",
       "    }\n",
       "</style>\n",
       "<table border=\"1\" class=\"dataframe\">\n",
       "  <thead>\n",
       "    <tr style=\"text-align: right;\">\n",
       "      <th></th>\n",
       "      <th>Author Id</th>\n",
       "      <th>Number of Tweets Made</th>\n",
       "    </tr>\n",
       "    <tr>\n",
       "      <th>Rank</th>\n",
       "      <th></th>\n",
       "      <th></th>\n",
       "    </tr>\n",
       "  </thead>\n",
       "  <tbody>\n",
       "    <tr>\n",
       "      <th>1</th>\n",
       "      <td>51378153</td>\n",
       "      <td>32</td>\n",
       "    </tr>\n",
       "    <tr>\n",
       "      <th>2</th>\n",
       "      <td>384233102</td>\n",
       "      <td>23</td>\n",
       "    </tr>\n",
       "    <tr>\n",
       "      <th>3</th>\n",
       "      <td>156677140</td>\n",
       "      <td>17</td>\n",
       "    </tr>\n",
       "    <tr>\n",
       "      <th>4</th>\n",
       "      <td>1244795045934280704</td>\n",
       "      <td>13</td>\n",
       "    </tr>\n",
       "    <tr>\n",
       "      <th>5</th>\n",
       "      <td>279323894</td>\n",
       "      <td>11</td>\n",
       "    </tr>\n",
       "    <tr>\n",
       "      <th>6</th>\n",
       "      <td>213903403</td>\n",
       "      <td>11</td>\n",
       "    </tr>\n",
       "    <tr>\n",
       "      <th>7</th>\n",
       "      <td>4648031797</td>\n",
       "      <td>9</td>\n",
       "    </tr>\n",
       "    <tr>\n",
       "      <th>8</th>\n",
       "      <td>99367063</td>\n",
       "      <td>9</td>\n",
       "    </tr>\n",
       "    <tr>\n",
       "      <th>9</th>\n",
       "      <td>986277960</td>\n",
       "      <td>8</td>\n",
       "    </tr>\n",
       "    <tr>\n",
       "      <th>10</th>\n",
       "      <td>7050962</td>\n",
       "      <td>7</td>\n",
       "    </tr>\n",
       "  </tbody>\n",
       "</table>\n",
       "</div>"
      ],
      "text/plain": [
       "                Author Id  Number of Tweets Made\n",
       "Rank                                            \n",
       "1                51378153                     32\n",
       "2               384233102                     23\n",
       "3               156677140                     17\n",
       "4     1244795045934280704                     13\n",
       "5               279323894                     11\n",
       "6               213903403                     11\n",
       "7              4648031797                      9\n",
       "8                99367063                      9\n",
       "9               986277960                      8\n",
       "10                7050962                      7"
      ]
     },
     "execution_count": 24,
     "metadata": {},
     "output_type": "execute_result"
    }
   ],
   "source": [
    "get_top_tweeters(twi_data)"
   ]
  },
  {
   "cell_type": "markdown",
   "id": "4f4a8103-9c34-4730-a608-d171a69a9c24",
   "metadata": {},
   "source": [
    "# Q3 (tweeters that have tweeted in the most Greater Capital cities and the number of times they have tweeted from those locations)"
   ]
  },
  {
   "cell_type": "code",
   "execution_count": 55,
   "id": "a6dfadb1",
   "metadata": {},
   "outputs": [],
   "source": [
    "def get_author_city_counts(sal_data, twitter_data):\n",
    "    author_city_counts = {}\n",
    "    sal_city_match = get_sal_city_match(sal_data)\n",
    "\n",
    "    \n",
    "    for tweet in twitter_data:\n",
    "        if tweet[\"includes\"] and \"places\" in tweet[\"includes\"]:\n",
    "            full_name = tweet[\"includes\"][\"places\"][0][\"full_name\"]\n",
    "            \n",
    "            if full_name in sal_city_match.keys():\n",
    "                greater_city = sal_city_match[sub_name]\n",
    "                author_id = tweet['data'][\"author_id\"]\n",
    "            else:            \n",
    "                sal_name = get_sal_name(full_name)\n",
    "\n",
    "                for sub_name in sal_name:\n",
    "                    if sub_name in sal_city_match.keys():\n",
    "                        greater_city = sal_city_match[sub_name]\n",
    "                        author_id = tweet['data'][\"author_id\"]\n",
    "                        if author_id in author_city_counts:\n",
    "                            if greater_city in author_city_counts[author_id]:\n",
    "                                author_city_counts[author_id][greater_city] += 1\n",
    "                            else:\n",
    "                                author_city_counts[author_id][greater_city] = 1\n",
    "                        else:\n",
    "                            author_city_counts[author_id] = {greater_city: 1}\n",
    "                        break \n",
    "                        \n",
    "    # to make a different sample for testing\n",
    "    author_city_counts['940868397528698880']['2gmel'] = 5\n",
    "    author_city_counts['940868397528698880']['3gbri'] = 2\n",
    "    author_city_counts['7050962']['3gbri'] = 10\n",
    "                    \n",
    "    # sort the dict by the unique number of cities\n",
    "    author_city_counts = sorted(author_city_counts.items(), key=lambda x: len(x[1]), reverse=True)\n",
    "\n",
    "    rows = []\n",
    "    \n",
    "    for i, (author_id, city_tweet_counts) in enumerate(author_city_counts):\n",
    "        num_unique_cities = len(city_tweet_counts)\n",
    "        num_tweets = sum(city_tweet_counts.values())\n",
    "        row = {\n",
    "            'Author Id': author_id,\n",
    "            'Number of Unique City Locations': num_unique_cities,\n",
    "            '#Tweets': f\"#{num_tweets} tweets - {', '.join(f'{count}{city[1:]}' for city, count in city_tweet_counts.items())}\"\n",
    "        }\n",
    "        rows.append(row)\n",
    "        \n",
    "    author_city_counts_df = pd.DataFrame(rows).rename_axis(\"Rank\")\n",
    "    author_city_counts_df.index += 1\n",
    "                \n",
    "    return author_city_counts_df"
   ]
  },
  {
   "cell_type": "code",
   "execution_count": 56,
   "id": "e729b26c",
   "metadata": {},
   "outputs": [
    {
     "data": {
      "text/html": [
       "<div>\n",
       "<style scoped>\n",
       "    .dataframe tbody tr th:only-of-type {\n",
       "        vertical-align: middle;\n",
       "    }\n",
       "\n",
       "    .dataframe tbody tr th {\n",
       "        vertical-align: top;\n",
       "    }\n",
       "\n",
       "    .dataframe thead th {\n",
       "        text-align: right;\n",
       "    }\n",
       "</style>\n",
       "<table border=\"1\" class=\"dataframe\">\n",
       "  <thead>\n",
       "    <tr style=\"text-align: right;\">\n",
       "      <th></th>\n",
       "      <th>Author Id</th>\n",
       "      <th>Number of Unique City Locations</th>\n",
       "      <th>#Tweets</th>\n",
       "    </tr>\n",
       "    <tr>\n",
       "      <th>Rank</th>\n",
       "      <th></th>\n",
       "      <th></th>\n",
       "      <th></th>\n",
       "    </tr>\n",
       "  </thead>\n",
       "  <tbody>\n",
       "    <tr>\n",
       "      <th>1</th>\n",
       "      <td>940868397528698880</td>\n",
       "      <td>3</td>\n",
       "      <td>#11 tweets - 4gsyd, 5gmel, 2gbri</td>\n",
       "    </tr>\n",
       "    <tr>\n",
       "      <th>2</th>\n",
       "      <td>7050962</td>\n",
       "      <td>2</td>\n",
       "      <td>#17 tweets - 7gsyd, 10gbri</td>\n",
       "    </tr>\n",
       "    <tr>\n",
       "      <th>3</th>\n",
       "      <td>14450834</td>\n",
       "      <td>1</td>\n",
       "      <td>#1 tweets - 1gsyd</td>\n",
       "    </tr>\n",
       "    <tr>\n",
       "      <th>4</th>\n",
       "      <td>167824089</td>\n",
       "      <td>1</td>\n",
       "      <td>#1 tweets - 1gsyd</td>\n",
       "    </tr>\n",
       "    <tr>\n",
       "      <th>5</th>\n",
       "      <td>384233102</td>\n",
       "      <td>1</td>\n",
       "      <td>#23 tweets - 23gsyd</td>\n",
       "    </tr>\n",
       "    <tr>\n",
       "      <th>...</th>\n",
       "      <td>...</td>\n",
       "      <td>...</td>\n",
       "      <td>...</td>\n",
       "    </tr>\n",
       "    <tr>\n",
       "      <th>280</th>\n",
       "      <td>1351649162</td>\n",
       "      <td>1</td>\n",
       "      <td>#1 tweets - 1acte</td>\n",
       "    </tr>\n",
       "    <tr>\n",
       "      <th>281</th>\n",
       "      <td>1027167886148689920</td>\n",
       "      <td>1</td>\n",
       "      <td>#1 tweets - 1acte</td>\n",
       "    </tr>\n",
       "    <tr>\n",
       "      <th>282</th>\n",
       "      <td>137315172</td>\n",
       "      <td>1</td>\n",
       "      <td>#1 tweets - 1acte</td>\n",
       "    </tr>\n",
       "    <tr>\n",
       "      <th>283</th>\n",
       "      <td>7598552</td>\n",
       "      <td>1</td>\n",
       "      <td>#1 tweets - 1acte</td>\n",
       "    </tr>\n",
       "    <tr>\n",
       "      <th>284</th>\n",
       "      <td>1397010827048194048</td>\n",
       "      <td>1</td>\n",
       "      <td>#1 tweets - 1acte</td>\n",
       "    </tr>\n",
       "  </tbody>\n",
       "</table>\n",
       "<p>284 rows × 3 columns</p>\n",
       "</div>"
      ],
      "text/plain": [
       "                Author Id  Number of Unique City Locations  \\\n",
       "Rank                                                         \n",
       "1      940868397528698880                                3   \n",
       "2                 7050962                                2   \n",
       "3                14450834                                1   \n",
       "4               167824089                                1   \n",
       "5               384233102                                1   \n",
       "...                   ...                              ...   \n",
       "280            1351649162                                1   \n",
       "281   1027167886148689920                                1   \n",
       "282             137315172                                1   \n",
       "283               7598552                                1   \n",
       "284   1397010827048194048                                1   \n",
       "\n",
       "                               #Tweets  \n",
       "Rank                                    \n",
       "1     #11 tweets - 4gsyd, 5gmel, 2gbri  \n",
       "2           #17 tweets - 7gsyd, 10gbri  \n",
       "3                    #1 tweets - 1gsyd  \n",
       "4                    #1 tweets - 1gsyd  \n",
       "5                  #23 tweets - 23gsyd  \n",
       "...                                ...  \n",
       "280                  #1 tweets - 1acte  \n",
       "281                  #1 tweets - 1acte  \n",
       "282                  #1 tweets - 1acte  \n",
       "283                  #1 tweets - 1acte  \n",
       "284                  #1 tweets - 1acte  \n",
       "\n",
       "[284 rows x 3 columns]"
      ]
     },
     "execution_count": 56,
     "metadata": {},
     "output_type": "execute_result"
    }
   ],
   "source": [
    "get_author_city_counts(sal_data, twi_data)"
   ]
  }
 ],
 "metadata": {
  "kernelspec": {
   "display_name": "Python 3 (ipykernel)",
   "language": "python",
   "name": "python3"
  },
  "language_info": {
   "codemirror_mode": {
    "name": "ipython",
    "version": 3
   },
   "file_extension": ".py",
   "mimetype": "text/x-python",
   "name": "python",
   "nbconvert_exporter": "python",
   "pygments_lexer": "ipython3",
   "version": "3.9.13"
  }
 },
 "nbformat": 4,
 "nbformat_minor": 5
}
